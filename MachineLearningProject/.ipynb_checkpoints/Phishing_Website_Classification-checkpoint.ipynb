{
 "cells": [
  {
   "cell_type": "code",
   "execution_count": 1,
   "metadata": {
    "collapsed": true
   },
   "outputs": [],
   "source": [
    "import pandas as pd\n",
    "import numpy as np\n",
    "from sklearn.linear_model import LogisticRegression\n",
    "from sklearn.model_selection import train_test_split\n",
    "from sklearn.metrics import accuracy_score\n",
    "\n",
    "from sklearn import tree, svm\n",
    "import graphviz\n",
    "\n",
    "import matplotlib.pyplot as plt;\n",
    "import numpy as np\n",
    "import matplotlib.pyplot as plt\n",
    "\n",
    "from sklearn.naive_bayes import BernoulliNB\n",
    "from sklearn.naive_bayes import GaussianNB\n",
    "from sklearn.naive_bayes import MultinomialNB\n",
    "\n"
   ]
  },
  {
   "cell_type": "code",
   "execution_count": 2,
   "metadata": {
    "collapsed": true
   },
   "outputs": [],
   "source": [
    "phishing = pd.read_csv('/Users/RodTa/Desktop/phising.csv', header = None)\n",
    "\n",
    "#print(type(phishing))\n"
   ]
  },
  {
   "cell_type": "code",
   "execution_count": 3,
   "metadata": {},
   "outputs": [
    {
     "name": "stdout",
     "output_type": "stream",
     "text": [
      "Number of Features: 30\n"
     ]
    }
   ],
   "source": [
    "feature_name = ['Having IP Address', 'URL Length', 'Shortining Service', 'Having At Symbol', 'Double Slash Redirecting'\n",
    "                , 'Prefix Suffix', 'Having Sub Domain', 'SSLfinal State', 'Domain Registration Length', 'Favicon', \n",
    "                'Port', 'HTTPS Token', 'Request URL', 'URL of Anchor', 'Links in Tags', 'SFH', 'Submitting To Email',\n",
    "               'Adbormal URL', 'Redirect', 'On_Mouseover', 'RightClick', 'PopUpWindow', 'Iframe', 'Age of Domain',\n",
    "               'DNSRecord', 'web_traffic', 'Page_rank', 'Google Index', 'Links pointing to page', 'Statistical Report']\n",
    "\n",
    "# legitimate = -1, phishing = 1\n",
    "class_name = ['Legitimate', 'Phising']\n",
    "\n",
    "print (\"Number of Features:\", len(feature_name))\n"
   ]
  },
  {
   "cell_type": "code",
   "execution_count": 4,
   "metadata": {},
   "outputs": [
    {
     "name": "stdout",
     "output_type": "stream",
     "text": [
      "6157\n",
      "Percentage of Phishing in dataset:  0.5569425599276345\n"
     ]
    }
   ],
   "source": [
    "y = phishing.iloc[:,30:31].values\n",
    "\n",
    "PhishingCounter = 0\n",
    "\n",
    "for i in range (0,len(y)):\n",
    "    if y[i] == 1:\n",
    "        PhishingCounter = PhishingCounter + 1\n",
    "\n",
    "\n",
    "print (PhishingCounter)\n",
    "print (\"Percentage of Phishing in dataset: \", PhishingCounter/11055)"
   ]
  },
  {
   "cell_type": "code",
   "execution_count": 5,
   "metadata": {},
   "outputs": [
    {
     "name": "stdout",
     "output_type": "stream",
     "text": [
      "BernoulliNB with binarize = 1:  0.555354558611\n",
      "BernoulliNB with binarize = 0.0:  0.902858176556\n",
      "GaussianNB:  0.603111432706\n",
      "MultinomialNB:  0.7747829233\n"
     ]
    }
   ],
   "source": [
    "#Naive Bayes\n",
    "\n",
    "X = phishing.iloc[:,0:30].values\n",
    "y = phishing.iloc[:,30:31].values\n",
    "y = y.reshape((11055,))\n",
    "# 50% training data and 50% test data\n",
    "X_train, X_test, y_train, y_test = train_test_split(\n",
    "        X,y, test_size=0.50, random_state=0)\n",
    "# Bernoulli\n",
    "clf = BernoulliNB(binarize = 1)\n",
    "clf.fit(X_train, y_train)\n",
    "y_expect = y_test\n",
    "y_pred = clf.predict(X_test)\n",
    "print(\"BernoulliNB with binarize = 1: \",accuracy_score(y_expect, y_pred))\n",
    "\n",
    "\n",
    "X = phishing.iloc[:,0:30].values\n",
    "y = phishing.iloc[:,30:31].values\n",
    "y = y.reshape((11055,))\n",
    "# 50% training data and 50% test data\n",
    "X_train, X_test, y_train, y_test = train_test_split(\n",
    "        X,y, test_size=0.50, random_state=0)\n",
    "clf = BernoulliNB(binarize = 0.0)\n",
    "clf.fit(X_train, y_train)\n",
    "y_expect = y_test\n",
    "y_pred = clf.predict(X_test)\n",
    "print(\"BernoulliNB with binarize = 0.0: \",accuracy_score(y_expect, y_pred))\n",
    "\n",
    "# Gaussian\n",
    "X = phishing.iloc[:,0:30].values\n",
    "y = phishing.iloc[:,30:31].values\n",
    "y = y.reshape((11055,))\n",
    "# 50% training data and 50% test data\n",
    "X_train, X_test, y_train, y_test = train_test_split(\n",
    "        X,y, test_size=0.50, random_state=0)\n",
    "\n",
    "clf = GaussianNB()\n",
    "clf.fit(X_train, y_train)\n",
    "y_expect = y_test\n",
    "y_pred = clf.predict(X_test)\n",
    "print(\"GaussianNB: \",accuracy_score(y_expect, y_pred))\n",
    "\n",
    "\n",
    "#Multinomial\n",
    "#Needs all positive value in dataset\n",
    "new_phishing = phishing.replace(-1,2)\n",
    "X = new_phishing.iloc[:,0:30].values\n",
    "y = new_phishing.iloc[:,30:31].values\n",
    "y = y.reshape((11055,))\n",
    "# 50% training data and 50% test data\n",
    "X_train, X_test, y_train, y_test = train_test_split(\n",
    "        X,y, test_size=0.50, random_state=0)\n",
    "\n",
    "clf = MultinomialNB()\n",
    "clf.fit(X_train, y_train)\n",
    "y_expect = y_test\n",
    "y_pred = clf.predict(X_test)\n",
    "print(\"MultinomialNB: \",accuracy_score(y_expect, y_pred))\n"
   ]
  },
  {
   "cell_type": "code",
   "execution_count": 6,
   "metadata": {
    "collapsed": true
   },
   "outputs": [],
   "source": [
    "def Bernoulli(binarize):\n",
    "    features_used = []\n",
    "    for i in range(0,30):\n",
    "        features_used.append(i)\n",
    "\n",
    "    accuracy_list = []\n",
    "    for i in range(29,-1,-1):\n",
    "        X = phishing.iloc[:,i:30].values\n",
    "        y = phishing.iloc[:,30:31].values\n",
    "        y = y.reshape((11055,))\n",
    "        # 50% training data and 50% test data\n",
    "        X_train, X_test, y_train, y_test = train_test_split(\n",
    "                X,y, test_size=0.50, random_state=0)\n",
    "        clf = BernoulliNB(binarize = binarize)\n",
    "        clf.fit(X_train, y_train)\n",
    "        y_expect = y_test\n",
    "        y_pred = clf.predict(X_test)\n",
    "        accuracy_list.append(accuracy_score(y_expect, y_pred))\n",
    "\n",
    "    fig = plt.figure(figsize=(12, 4))\n",
    "\n",
    "    y_pos = np.arange(len(features_used))\n",
    "    plt.bar(y_pos, accuracy_list, align='center', alpha=0.5)\n",
    "    plt.xticks(y_pos, features_used)\n",
    "\n",
    "    plt.title('BernoulliNB')\n",
    "    plt.xlabel('Features used')\n",
    "    plt.ylabel('Accuracy')\n",
    "\n",
    "    plt.show()\n",
    "\n",
    "    average_acc = sum(accuracy_list)/30\n",
    "    print(\"Average accuracy: \",average_acc)\n",
    "    "
   ]
  },
  {
   "cell_type": "code",
   "execution_count": 7,
   "metadata": {
    "collapsed": true
   },
   "outputs": [],
   "source": [
    "def Gaussian():\n",
    "    features_used = []\n",
    "    for i in range(0,30):\n",
    "        features_used.append(i)\n",
    "\n",
    "    accuracy_list = []\n",
    "    for i in range(29,-1,-1):\n",
    "        X = phishing.iloc[:,i:30].values\n",
    "        y = phishing.iloc[:,30:31].values\n",
    "        y = y.reshape((11055,))\n",
    "        # 50% training data and 50% test data\n",
    "        X_train, X_test, y_train, y_test = train_test_split(\n",
    "                X,y, test_size=0.50, random_state=0)\n",
    "        clf = GaussianNB()\n",
    "        clf.fit(X_train, y_train)\n",
    "        y_expect = y_test\n",
    "        y_pred = clf.predict(X_test)\n",
    "        accuracy_list.append(accuracy_score(y_expect, y_pred))\n",
    "\n",
    "    fig = plt.figure(figsize=(12, 4))\n",
    "\n",
    "    y_pos = np.arange(len(features_used))\n",
    "    plt.bar(y_pos, accuracy_list, align='center', alpha=0.5)\n",
    "    plt.xticks(y_pos, features_used)\n",
    "\n",
    "    plt.title('Gaussian')\n",
    "    plt.xlabel('Features used')\n",
    "    plt.ylabel('Accuracy')\n",
    "\n",
    "    plt.show()\n",
    "\n",
    "    average_acc = sum(accuracy_list)/30\n",
    "    print(\"Average accuracy: \",average_acc)\n",
    "    \n",
    "    "
   ]
  },
  {
   "cell_type": "code",
   "execution_count": 8,
   "metadata": {
    "collapsed": true
   },
   "outputs": [],
   "source": [
    "def Multinomial():\n",
    "    features_used = []\n",
    "    for i in range(0,30):\n",
    "        features_used.append(i)\n",
    "        \n",
    "\n",
    "\n",
    "    accuracy_list = []\n",
    "    for i in range(29,-1,-1):\n",
    "        X = new_phishing.iloc[:,i:30].values\n",
    "        y = new_phishing.iloc[:,30:31].values\n",
    "        y = y.reshape((11055,))\n",
    "        # 50% training data and 50% test data\n",
    "        X_train, X_test, y_train, y_test = train_test_split(\n",
    "            X,y, test_size=0.50, random_state=0)\n",
    "        clf = MultinomialNB()\n",
    "        clf.fit(X_train, y_train)\n",
    "        y_expect = y_test\n",
    "        y_pred = clf.predict(X_test)\n",
    "        accuracy_list.append(accuracy_score(y_expect, y_pred))\n",
    "\n",
    "    fig = plt.figure(figsize=(12, 4))\n",
    "\n",
    "    y_pos = np.arange(len(features_used))\n",
    "    plt.bar(y_pos, accuracy_list, align='center', alpha=0.5)\n",
    "    plt.xticks(y_pos, features_used)\n",
    "\n",
    "    plt.title('Multinomial')\n",
    "    plt.xlabel('Features used')\n",
    "    plt.ylabel('Accuracy')\n",
    "\n",
    "    plt.show()\n",
    "\n",
    "    average_acc = sum(accuracy_list)/30\n",
    "    print(\"Average accuracy: \",average_acc)\n",
    "    \n",
    "    "
   ]
  },
  {
   "cell_type": "code",
   "execution_count": 9,
   "metadata": {},
   "outputs": [
    {
     "data": {
      "image/png": "[encoded data removed]",
      "text/plain": [
       "<matplotlib.figure.Figure at 0x1062bff28>"
      ]
     },
     "metadata": {},
     "output_type": "display_data"
    },
    {
     "name": "stdout",
     "output_type": "stream",
     "text": [
      "Average accuracy:  0.758351423058\n"
     ]
    },
    {
     "data": {
      "image/png": "[encoded data removed]",
      "text/plain": [
       "<matplotlib.figure.Figure at 0x111872588>"
      ]
     },
     "metadata": {},
     "output_type": "display_data"
    },
    {
     "name": "stdout",
     "output_type": "stream",
     "text": [
      "Average accuracy:  0.700500482393\n"
     ]
    },
    {
     "data": {
      "image/png": "[encoded data removed]",
      "text/plain": [
       "<matplotlib.figure.Figure at 0x1119f94a8>"
      ]
     },
     "metadata": {},
     "output_type": "display_data"
    },
    {
     "name": "stdout",
     "output_type": "stream",
     "text": [
      "Average accuracy:  0.656186685962\n"
     ]
    }
   ],
   "source": [
    "Bernoulli(0)\n",
    "Gaussian()\n",
    "Multinomial()"
   ]
  },
  {
   "cell_type": "code",
   "execution_count": 10,
   "metadata": {
    "collapsed": true
   },
   "outputs": [],
   "source": [
    "def LogisticRegressionSim():\n",
    "    for i in range (0,30):\n",
    "        X = phishing.iloc[:,phishing.columns != i].values\n",
    "        X = phishing.iloc[:,phishing.columns != 30].values\n",
    "        y = phishing.iloc[:,30:31].values\n",
    "        y = y.reshape((11055,))\n",
    "\n",
    "        # 50% training data and 50% test data\n",
    "        X_train, X_test, y_train, y_test = train_test_split(\n",
    "                    X,y, test_size=0.50, random_state=0)\n",
    "\n",
    "        model = LogisticRegression(penalty='l2', C=1)\n",
    "        model.fit(X_train, y_train)\n",
    "        \n",
    "        print (\"Without column \", i, \" \", accuracy_score(y_test,model.predict(X_test)))\n",
    "    \n",
    "    "
   ]
  },
  {
   "cell_type": "code",
   "execution_count": 11,
   "metadata": {},
   "outputs": [
    {
     "name": "stdout",
     "output_type": "stream",
     "text": [
      "(11055, 30)\n",
      "(11055,)\n",
      "<class 'numpy.ndarray'>\n",
      "Classification accuracy on train 0.935950787045\n",
      "Classification accuracy on test 0.925832127352\n"
     ]
    }
   ],
   "source": [
    "# Logistic Regression\n",
    "\n",
    "X = phishing.iloc[:,0:30].values\n",
    "y = phishing.iloc[:,30:31].values\n",
    "y = y.reshape((11055,))\n",
    "\n",
    "#print(X)\n",
    "#print(y)\n",
    "print(X.shape)\n",
    "print(y.shape)\n",
    "print(type(y))\n",
    "\n",
    "# 50% training data and 50% test data\n",
    "X_train, X_test, y_train, y_test = train_test_split(\n",
    "            X,y, test_size=0.50, random_state=0)\n",
    "\n",
    "model = LogisticRegression(penalty='l2', C=1)\n",
    "model.fit(X_train, y_train)\n",
    "#model = forest.fit(train_fold, train_y.values.ravel())\n",
    "\n",
    "print (\"Classification accuracy on train\", accuracy_score(y_train,model.predict(X_train)))\n",
    "print (\"Classification accuracy on test\", accuracy_score(y_test,model.predict(X_test)))"
   ]
  },
  {
   "cell_type": "code",
   "execution_count": 12,
   "metadata": {
    "scrolled": true
   },
   "outputs": [
    {
     "data": {
      "image/png": "[encoded data removed]",
      "text/plain": [
       "<matplotlib.figure.Figure at 0x112004710>"
      ]
     },
     "metadata": {},
     "output_type": "display_data"
    },
    {
     "name": "stdout",
     "output_type": "stream",
     "text": [
      "Average Accuracy:  0.771810178485\n"
     ]
    }
   ],
   "source": [
    "features_used = []\n",
    "\n",
    "for i in range(0,30):\n",
    "    features_used.append(i)\n",
    "    \n",
    "accuracy_list = []\n",
    "for i in range(29,-1,-1):\n",
    "    X = phishing.iloc[:,i:30].values\n",
    "    y = phishing.iloc[:,30:31].values\n",
    "    y = y.reshape((11055,))\n",
    "    # 50% training data and 50% test data\n",
    "    X_train, X_test, y_train, y_test = train_test_split(\n",
    "            X,y, test_size=0.50, random_state=0)\n",
    "    model = LogisticRegression(penalty='l2', C=1)\n",
    "    model.fit(X_train, y_train)\n",
    "    accuracy_list.append(accuracy_score(y_test,model.predict(X_test)))\n",
    "    \n",
    "fig = plt.figure(figsize=(12, 4))\n",
    "    \n",
    "y_pos = np.arange(len(features_used))\n",
    "plt.bar(y_pos, accuracy_list, align='center', alpha=0.5)\n",
    "plt.xticks(y_pos, features_used)\n",
    "\n",
    "plt.title('Logistic Regression')\n",
    "plt.xlabel('Features used')\n",
    "plt.ylabel('Accuracy')\n",
    " \n",
    "plt.show()\n",
    "\n",
    "average_acc = sum(accuracy_list)/30\n",
    "print(\"Average Accuracy: \",average_acc)"
   ]
  },
  {
   "cell_type": "code",
   "execution_count": 13,
   "metadata": {},
   "outputs": [
    {
     "name": "stdout",
     "output_type": "stream",
     "text": [
      "Classification accuracy on train 0.990410711055\n",
      "Classification accuracy on test 0.954405645015\n"
     ]
    }
   ],
   "source": [
    "# Decision Tree\n",
    "\n",
    "X = phishing.iloc[:,0:30].values\n",
    "y = phishing.iloc[:,30:31].values\n",
    "y = y.reshape((11055,))\n",
    "\n",
    "# 50% training data and 50% test data\n",
    "X_train, X_test, y_train, y_test = train_test_split(\n",
    "            X,y, test_size=0.50, random_state=0)\n",
    "\n",
    "clf = tree.DecisionTreeClassifier()\n",
    "clf = clf.fit(X_train, y_train)\n",
    "accu_train = np.sum(clf.predict(X_train) == y_train) / float(y_train.size)\n",
    "accu_test = np.sum(clf.predict(X_test) == y_test) / float(y_train.size)\n",
    "print (\"Classification accuracy on train\", accu_train)\n",
    "print (\"Classification accuracy on test\", accu_test)"
   ]
  },
  {
   "cell_type": "code",
   "execution_count": 14,
   "metadata": {
    "collapsed": true
   },
   "outputs": [],
   "source": [
    "dot_data = tree.export_graphviz(clf,out_file=None, feature_names = feature_name, class_names = class_name,\n",
    "                               filled=True, rounded=True, special_characters=True)\n",
    "graph = graphviz.Source(dot_data)\n",
    "#graph"
   ]
  },
  {
   "cell_type": "code",
   "execution_count": 15,
   "metadata": {},
   "outputs": [
    {
     "data": {
      "image/png": "[encoded data removed]",
      "text/plain": [
       "<matplotlib.figure.Figure at 0x10ba11860>"
      ]
     },
     "metadata": {},
     "output_type": "display_data"
    },
    {
     "name": "stdout",
     "output_type": "stream",
     "text": [
      "Average Accuracy:  0.816295760207\n"
     ]
    }
   ],
   "source": [
    "features_used = []\n",
    "\n",
    "for i in range(0,30):\n",
    "    features_used.append(i)\n",
    "    \n",
    "accuracy_list = []\n",
    "for i in range(29,-1,-1):\n",
    "    X = phishing.iloc[:,i:30].values\n",
    "    y = phishing.iloc[:,30:31].values\n",
    "    y = y.reshape((11055,))\n",
    "    # 50% training data and 50% test data\n",
    "    X_train, X_test, y_train, y_test = train_test_split(\n",
    "            X,y, test_size=0.50, random_state=0)\n",
    "    clf = tree.DecisionTreeClassifier()\n",
    "    clf = clf.fit(X_train, y_train)\n",
    "    accuracy_list.append(np.sum(clf.predict(X_test) == y_test) / float(y_train.size))\n",
    "    \n",
    "fig = plt.figure(figsize=(12, 4))\n",
    "    \n",
    "y_pos = np.arange(len(features_used))\n",
    "plt.bar(y_pos, accuracy_list, align='center', alpha=0.5)\n",
    "plt.xticks(y_pos, features_used)\n",
    "\n",
    "plt.title('Decision Tree')\n",
    "plt.xlabel('Features used')\n",
    "plt.ylabel('Accuracy')\n",
    " \n",
    "plt.show()\n",
    "\n",
    "average_acc = sum(accuracy_list)/30\n",
    "print(\"Average Accuracy: \",average_acc)"
   ]
  },
  {
   "cell_type": "code",
   "execution_count": 16,
   "metadata": {},
   "outputs": [
    {
     "name": "stdout",
     "output_type": "stream",
     "text": [
      "0.937952243126\n"
     ]
    }
   ],
   "source": [
    "#SVM\n",
    "\n",
    "X = phishing.iloc[:,0:30].values\n",
    "y = phishing.iloc[:,30:31].values\n",
    "y = y.reshape((11055,))\n",
    "\n",
    "# 50% training data and 50% test data\n",
    "X_train, X_test, y_train, y_test = train_test_split(\n",
    "            X,y, test_size=0.50, random_state=0)\n",
    "\n",
    "clf = svm.SVC()\n",
    "clf.fit(X_train, y_train)\n",
    "\n",
    "accuracy = clf.score(X_test, y_test)\n",
    "print(accuracy)"
   ]
  },
  {
   "cell_type": "code",
   "execution_count": 17,
   "metadata": {
    "collapsed": true
   },
   "outputs": [],
   "source": [
    "X = phishing.iloc[:,0:30].values\n",
    "y = phishing.iloc[:,30:31].values\n",
    "y = y.reshape((11055,))\n",
    "# 50% training data and 50% test data\n",
    "X_train, X_test, y_train, y_test = train_test_split(\n",
    "        X,y, test_size=0.50, random_state=0)\n"
   ]
  },
  {
   "cell_type": "code",
   "execution_count": 18,
   "metadata": {},
   "outputs": [
    {
     "name": "stdout",
     "output_type": "stream",
     "text": [
      "default  0.937952243126\n",
      "SVC with linear kernel  0.923299565847\n",
      "LinearSVC (linear kernel)  0.923299565847\n",
      "SVC with RBF kernel (gamma = 0.7)  0.87011577424\n",
      "SVC with RBF kernel (gamma = 0.3)  0.94500723589\n",
      "SVC with RBF kernel (gamma = 1.5)  0.823263386397\n",
      "SVC with polynomial (degree 2) kernel  0.932525325615\n",
      "SVC with polynomial (degree 3) kernel  0.940846599132\n",
      "SVC with polynomial (degree 5) kernel  0.94500723589\n",
      "NuSVC with kernel RBF  0.913531114327\n",
      "NuSVC with kernel poly  0.913892908828\n",
      "NuSVR with kernel RBF  0.761884890918\n",
      "NuSVR with kernel poly  0.616613016372\n",
      "LinearSVR(rbf kernel)  0.442332819038\n",
      "SVR with RBF kernel  0.77441679954\n",
      "SVR with poly kernel  0.779606001385\n",
      "SVR with linear kernel  0.533989387434\n"
     ]
    }
   ],
   "source": [
    "C=1\n",
    "clf = svm.SVC()\n",
    "clf.fit(X_train, y_train)\n",
    "accuracy = clf.score(X_test, y_test)\n",
    "print('default ',accuracy)\n",
    "\n",
    "clf = svm.SVC(kernel='linear', C=C)\n",
    "clf.fit(X_train, y_train)\n",
    "accuracy = clf.score(X_test, y_test)\n",
    "print('SVC with linear kernel ',accuracy)\n",
    "\n",
    "clf = svm.LinearSVC(C=C)\n",
    "clf.fit(X_train, y_train)\n",
    "accuracy = clf.score(X_test, y_test)\n",
    "print('LinearSVC (linear kernel) ',accuracy)\n",
    "\n",
    "clf = svm.SVC(kernel='rbf', gamma=0.7, C=C)\n",
    "clf.fit(X_train, y_train)\n",
    "accuracy = clf.score(X_test, y_test)\n",
    "print('SVC with RBF kernel (gamma = 0.7) ',accuracy)\n",
    "\n",
    "clf = svm.SVC(kernel='rbf', gamma=0.3, C=C)\n",
    "clf.fit(X_train, y_train)\n",
    "accuracy = clf.score(X_test, y_test)\n",
    "print('SVC with RBF kernel (gamma = 0.3) ',accuracy)\n",
    "\n",
    "clf = svm.SVC(kernel='rbf', gamma=1.5, C=C)\n",
    "clf.fit(X_train, y_train)\n",
    "accuracy = clf.score(X_test, y_test)\n",
    "print('SVC with RBF kernel (gamma = 1.5) ',accuracy)\n",
    "\n",
    "clf = svm.SVC(kernel='poly', degree=2, C=C)\n",
    "clf.fit(X_train, y_train)\n",
    "accuracy = clf.score(X_test, y_test)\n",
    "print('SVC with polynomial (degree 2) kernel ',accuracy)\n",
    "\n",
    "clf = svm.SVC(kernel='poly', degree=3, C=C)\n",
    "clf.fit(X_train, y_train)\n",
    "accuracy = clf.score(X_test, y_test)\n",
    "print('SVC with polynomial (degree 3) kernel ',accuracy)\n",
    "\n",
    "clf = svm.SVC(kernel='poly', degree=5, C=C)\n",
    "clf.fit(X_train, y_train)\n",
    "accuracy = clf.score(X_test, y_test)\n",
    "print('SVC with polynomial (degree 5) kernel ',accuracy)\n",
    "\n",
    "clf = svm.NuSVC()\n",
    "clf.fit(X_train, y_train)\n",
    "accuracy = clf.score(X_test, y_test)\n",
    "print('NuSVC with kernel RBF ',accuracy)\n",
    "\n",
    "clf = svm.NuSVC(kernel='poly')\n",
    "clf.fit(X_train, y_train)\n",
    "accuracy = clf.score(X_test, y_test)\n",
    "print('NuSVC with kernel poly ',accuracy)\n",
    "\n",
    "clf = svm.NuSVR()\n",
    "clf.fit(X_train, y_train)\n",
    "accuracy = clf.score(X_test, y_test)\n",
    "print('NuSVR with kernel RBF ',accuracy)\n",
    "\n",
    "clf = svm.NuSVR(kernel='linear')\n",
    "clf.fit(X_train, y_train)\n",
    "accuracy = clf.score(X_test, y_test)\n",
    "print('NuSVR with kernel poly ',accuracy)\n",
    "\n",
    "clf = svm.LinearSVR(C=C)\n",
    "clf.fit(X_train, y_train)\n",
    "accuracy = clf.score(X_test, y_test)\n",
    "print('LinearSVR(rbf kernel) ',accuracy)\n",
    "\n",
    "clf = svm.SVR(kernel='rbf', C=C)\n",
    "clf.fit(X_train, y_train)\n",
    "accuracy = clf.score(X_test, y_test)\n",
    "print('SVR with RBF kernel ',accuracy)\n",
    "\n",
    "clf = svm.SVR(kernel='poly', C=C)\n",
    "clf.fit(X_train, y_train)\n",
    "accuracy = clf.score(X_test, y_test)\n",
    "print('SVR with poly kernel ',accuracy)\n",
    "\n",
    "clf = svm.SVR(kernel='linear', C=C)\n",
    "clf.fit(X_train, y_train)\n",
    "accuracy = clf.score(X_test, y_test)\n",
    "print('SVR with linear kernel ',accuracy)\n",
    "\n",
    "\n"
   ]
  },
  {
   "cell_type": "code",
   "execution_count": 19,
   "metadata": {},
   "outputs": [
    {
     "data": {
      "image/png": "[encoded data removed]",
      "text/plain": [
       "<matplotlib.figure.Figure at 0x111edeb38>"
      ]
     },
     "metadata": {},
     "output_type": "display_data"
    },
    {
     "name": "stdout",
     "output_type": "stream",
     "text": [
      "Average Accuracy:  0.817613362277\n"
     ]
    }
   ],
   "source": [
    "#Best one: SVC with RBF kernel (gamma = 0.3)  0.94500723589\n",
    "\n",
    "features_used = []\n",
    "\n",
    "for i in range(0,30):\n",
    "    features_used.append(i)\n",
    "    \n",
    "accuracy_list = []\n",
    "for i in range(29,-1,-1):\n",
    "    X = phishing.iloc[:,i:30].values\n",
    "    y = phishing.iloc[:,30:31].values\n",
    "    y = y.reshape((11055,))\n",
    "    # 50% training data and 50% test data\n",
    "    X_train, X_test, y_train, y_test = train_test_split(\n",
    "            X,y, test_size=0.50, random_state=0)\n",
    "    clf = svm.SVC(kernel='rbf', gamma=0.3, C=C)\n",
    "    clf.fit(X_train, y_train)\n",
    "    accuracy_list.append(clf.score(X_test, y_test))\n",
    "    \n",
    "fig = plt.figure(figsize=(12, 4))\n",
    "    \n",
    "y_pos = np.arange(len(features_used))\n",
    "plt.bar(y_pos, accuracy_list, align='center', alpha=0.5)\n",
    "plt.xticks(y_pos, features_used)\n",
    "\n",
    "plt.title('SVC with RBF kernel (gamma = 0.3)')\n",
    "plt.xlabel('Features used')\n",
    "plt.ylabel('Accuracy')\n",
    " \n",
    "plt.show()\n",
    "\n",
    "average_acc = sum(accuracy_list)/30\n",
    "print(\"Average Accuracy: \",average_acc)"
   ]
  },
  {
   "cell_type": "code",
   "execution_count": 20,
   "metadata": {},
   "outputs": [
    {
     "data": {
      "image/png": "[encoded data removed]",
      "text/plain": [
       "<matplotlib.figure.Figure at 0x1119f4b38>"
      ]
     },
     "metadata": {},
     "output_type": "display_data"
    },
    {
     "name": "stdout",
     "output_type": "stream",
     "text": [
      "Average Accuracy:  0.777653159672\n"
     ]
    }
   ],
   "source": [
    "# clf = svm.SVC(kernel='rbf', gamma=1.5, C=C)\n",
    "\n",
    "features_used = []\n",
    "\n",
    "for i in range(0,30):\n",
    "    features_used.append(i)\n",
    "    \n",
    "accuracy_list = []\n",
    "for i in range(29,-1,-1):\n",
    "    X = phishing.iloc[:,i:30].values\n",
    "    y = phishing.iloc[:,30:31].values\n",
    "    y = y.reshape((11055,))\n",
    "    # 50% training data and 50% test data\n",
    "    X_train, X_test, y_train, y_test = train_test_split(\n",
    "            X,y, test_size=0.50, random_state=0)\n",
    "    clf = svm.SVC(kernel='rbf', gamma=1.5, C=C)\n",
    "    clf.fit(X_train, y_train)\n",
    "    accuracy_list.append(clf.score(X_test, y_test))\n",
    "    \n",
    "fig = plt.figure(figsize=(12, 4))\n",
    "    \n",
    "y_pos = np.arange(len(features_used))\n",
    "plt.bar(y_pos, accuracy_list, align='center', alpha=0.5)\n",
    "plt.xticks(y_pos, features_used)\n",
    "\n",
    "plt.title('SVC with RBF kernel (gamma = 1.5)')\n",
    "plt.xlabel('Features used')\n",
    "plt.ylabel('Accuracy')\n",
    " \n",
    "plt.show()\n",
    "\n",
    "average_acc = sum(accuracy_list)/30\n",
    "print(\"Average Accuracy: \",average_acc)"
   ]
  },
  {
   "cell_type": "code",
   "execution_count": 25,
   "metadata": {},
   "outputs": [
    {
     "name": "stdout",
     "output_type": "stream",
     "text": [
      "Classification using only the 9 most important features: 0.94427356613\n"
     ]
    }
   ],
   "source": [
    "X = phishing.iloc[:, [5,13,7,6,25,17,1,23,14]]\n",
    "y = phishing.iloc[:,30:31].values\n",
    "y = y.reshape((11055,))\n",
    "\n",
    "X_train, X_test, y_train, y_test = train_test_split(\n",
    "        X,y, test_size=0.50, random_state=0)\n",
    "\n",
    "'''\n",
    "Prefix_suffix\t\t\t\t5\n",
    "\n",
    "URL of Anchor\t\t\t\t13\n",
    "\n",
    "SSL_State\t\t\t\t7\n",
    "\n",
    "Has_Sub_Domain\t\t\t6\n",
    "\n",
    "Traffic\t\t\t\t\t25\n",
    "\n",
    "Req_URL\t\t\t\t\t17\n",
    "\n",
    "Long_domain\t\t\t\t1\n",
    "\n",
    "Domain_Age\t\t\t\t23\n",
    "\n",
    "Tag_links\t\t\t\t\t14'''\n",
    "\n",
    "# 50% training data and 50% test data\n",
    "X_train, X_test, y_train, y_test = train_test_split(\n",
    "        X,y, test_size=0.50, random_state=0)\n",
    "\n",
    "clf = tree.DecisionTreeClassifier()\n",
    "clf = clf.fit(X_train, y_train)\n",
    "accu_train = np.sum(clf.predict(X_train) == y_train) / float(y_train.size)\n",
    "accu_test = np.sum(clf.predict(X_test) == y_test) / float(y_train.size)\n",
    "print (\"Classification using only the 9 most important features:\", accu_test)\n",
    "#print(X.shape)"
   ]
  },
  {
   "cell_type": "code",
   "execution_count": null,
   "metadata": {
    "collapsed": true
   },
   "outputs": [],
   "source": []
  }
 ],
 "metadata": {
  "kernelspec": {
   "display_name": "Python 3",
   "language": "python",
   "name": "python3"
  },
  "language_info": {
   "codemirror_mode": {
    "name": "ipython",
    "version": 3
   },
   "file_extension": ".py",
   "mimetype": "text/x-python",
   "name": "python",
   "nbconvert_exporter": "python",
   "pygments_lexer": "ipython3",
   "version": "3.6.1"
  }
 },
 "nbformat": 4,
 "nbformat_minor": 2
}
