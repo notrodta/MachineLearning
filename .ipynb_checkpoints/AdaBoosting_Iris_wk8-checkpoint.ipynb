{
 "cells": [
  {
   "cell_type": "code",
   "execution_count": 1,
   "metadata": {
    "collapsed": true
   },
   "outputs": [],
   "source": [
    "import pandas as pd\n",
    "import numpy as np\n",
    "from sklearn.ensemble import AdaBoostClassifier\n",
    "from sklearn.model_selection import train_test_split\n",
    "from sklearn.tree import DecisionTreeClassifier\n",
    "from sklearn.metrics import accuracy_score\n",
    "from astropy.table import Table, Column"
   ]
  },
  {
   "cell_type": "code",
   "execution_count": 2,
   "metadata": {
    "collapsed": true
   },
   "outputs": [],
   "source": [
    "iris = pd.read_csv('https://archive.ics.uci.edu/ml/machine-learning-databases/iris/iris.data', header = None)\n",
    "\n",
    "iris.tail()\n",
    "\n",
    "#samples\n",
    "X = iris.iloc[:,0:4].values\n",
    "ITemp = iris.iloc[:,4:5].values\n",
    "\n",
    "for i in range (0,150):\n",
    "    if ITemp[i] == 'Iris-setosa':\n",
    "        ITemp[i] = 0\n",
    "    elif ITemp[i] == 'Iris-versicolor':\n",
    "        ITemp[i] = 1\n",
    "    else:\n",
    "        ITemp[i] = 2\n",
    "        \n",
    "y = []\n",
    "\n",
    "for i in range (0,150):\n",
    "    y.append(ITemp[i][0])\n",
    "      \n",
    "#classification\n",
    "y = np.asarray(y)  \n",
    "\n"
   ]
  },
  {
   "cell_type": "code",
   "execution_count": 3,
   "metadata": {
    "collapsed": true
   },
   "outputs": [],
   "source": [
    "# 50% training data and 50% test data\n",
    "X_train, X_test, y_train, y_test = train_test_split(\n",
    "            X,y, test_size=0.50, random_state=0)\n",
    "\n",
    "maxDepth = 10\n",
    "depth = np.zeros(maxDepth)\n",
    "\n",
    "accuracyTree = np.zeros((maxDepth,2))\n",
    "accuracyAda = np.zeros((maxDepth,2))"
   ]
  },
  {
   "cell_type": "code",
   "execution_count": 4,
   "metadata": {
    "collapsed": true
   },
   "outputs": [],
   "source": [
    "def AdaBoost(depthIndex):\n",
    "    \n",
    "    depth[depthIndex] = depthIndex + 1\n",
    "    \n",
    "    decisionTree = DecisionTreeClassifier(max_depth=depthIndex+1)\n",
    "    adaBoost = AdaBoostClassifier(base_estimator=decisionTree)\n",
    "    \n",
    "    #Accuracy and error for Decision Tree\n",
    "    decisionTree = decisionTree.fit(X_train, y_train)\n",
    "    yTrainPred = decisionTree.predict(X_train)\n",
    "    yTestPred = decisionTree.predict(X_test)\n",
    "    accuracyTree[depthIndex,0] = accuracy_score(y_train, yTrainPred)\n",
    "    accuracyTree[depthIndex,1] = accuracy_score(y_test, yTestPred)\n",
    "    \n",
    "    #Accuracy and error for AdaBoost classifier\n",
    "    adaBoost = adaBoost.fit(X_train, y_train)\n",
    "    yTrainPred = adaBoost.predict(X_train)\n",
    "    yTestPred = adaBoost.predict(X_test)\n",
    "    accuracyAda[depthIndex,0] = accuracy_score(y_train, yTrainPred)\n",
    "    accuracyAda[depthIndex,1] = accuracy_score(y_test, yTestPred)\n"
   ]
  },
  {
   "cell_type": "code",
   "execution_count": 5,
   "metadata": {
    "collapsed": true
   },
   "outputs": [],
   "source": [
    "for i in range (0,10):\n",
    "    AdaBoost(i)"
   ]
  },
  {
   "cell_type": "code",
   "execution_count": 6,
   "metadata": {
    "collapsed": true
   },
   "outputs": [],
   "source": [
    "tree = Table([depth,accuracyTree[:,0],accuracyTree[:,1]],\n",
    "            names = ('Depth','Training Accuracy','Test Accuracy'))\n",
    "\n",
    "ada = Table([depth,accuracyAda[:,0],accuracyAda[:,1]],\n",
    "            names = ('Depth','Training Accuracy','Test Accuracy'))"
   ]
  },
  {
   "cell_type": "code",
   "execution_count": 7,
   "metadata": {},
   "outputs": [
    {
     "name": "stdout",
     "output_type": "stream",
     "text": [
      "Decision Tree:\n"
     ]
    },
    {
     "data": {
      "text/html": [
       "&lt;Table length=10&gt;\n",
       "<table id=\"table4718174104\" class=\"table-striped table-bordered table-condensed\">\n",
       "<thead><tr><th>Depth</th><th>Training Accuracy</th><th>Test Accuracy</th></tr></thead>\n",
       "<thead><tr><th>float64</th><th>float64</th><th>float64</th></tr></thead>\n",
       "<tr><td>1.0</td><td>0.733333333333</td><td>0.6</td></tr>\n",
       "<tr><td>2.0</td><td>0.973333333333</td><td>0.893333333333</td></tr>\n",
       "<tr><td>3.0</td><td>0.986666666667</td><td>0.96</td></tr>\n",
       "<tr><td>4.0</td><td>1.0</td><td>0.96</td></tr>\n",
       "<tr><td>5.0</td><td>1.0</td><td>0.96</td></tr>\n",
       "<tr><td>6.0</td><td>1.0</td><td>0.96</td></tr>\n",
       "<tr><td>7.0</td><td>1.0</td><td>0.96</td></tr>\n",
       "<tr><td>8.0</td><td>1.0</td><td>0.96</td></tr>\n",
       "<tr><td>9.0</td><td>1.0</td><td>0.96</td></tr>\n",
       "<tr><td>10.0</td><td>1.0</td><td>0.96</td></tr>\n",
       "</table>"
      ],
      "text/plain": [
       "<Table length=10>\n",
       " Depth  Training Accuracy Test Accuracy \n",
       "float64      float64         float64    \n",
       "------- ----------------- --------------\n",
       "    1.0    0.733333333333            0.6\n",
       "    2.0    0.973333333333 0.893333333333\n",
       "    3.0    0.986666666667           0.96\n",
       "    4.0               1.0           0.96\n",
       "    5.0               1.0           0.96\n",
       "    6.0               1.0           0.96\n",
       "    7.0               1.0           0.96\n",
       "    8.0               1.0           0.96\n",
       "    9.0               1.0           0.96\n",
       "   10.0               1.0           0.96"
      ]
     },
     "execution_count": 7,
     "metadata": {},
     "output_type": "execute_result"
    }
   ],
   "source": [
    "print (\"Decision Tree:\")\n",
    "tree\n"
   ]
  },
  {
   "cell_type": "code",
   "execution_count": 8,
   "metadata": {},
   "outputs": [
    {
     "name": "stdout",
     "output_type": "stream",
     "text": [
      "Adaboost Classifier:\n"
     ]
    },
    {
     "data": {
      "text/html": [
       "&lt;Table length=10&gt;\n",
       "<table id=\"table4718174048\" class=\"table-striped table-bordered table-condensed\">\n",
       "<thead><tr><th>Depth</th><th>Training Accuracy</th><th>Test Accuracy</th></tr></thead>\n",
       "<thead><tr><th>float64</th><th>float64</th><th>float64</th></tr></thead>\n",
       "<tr><td>1.0</td><td>0.986666666667</td><td>0.96</td></tr>\n",
       "<tr><td>2.0</td><td>1.0</td><td>0.96</td></tr>\n",
       "<tr><td>3.0</td><td>1.0</td><td>0.96</td></tr>\n",
       "<tr><td>4.0</td><td>1.0</td><td>0.96</td></tr>\n",
       "<tr><td>5.0</td><td>1.0</td><td>0.96</td></tr>\n",
       "<tr><td>6.0</td><td>1.0</td><td>0.96</td></tr>\n",
       "<tr><td>7.0</td><td>1.0</td><td>0.96</td></tr>\n",
       "<tr><td>8.0</td><td>1.0</td><td>0.96</td></tr>\n",
       "<tr><td>9.0</td><td>1.0</td><td>0.96</td></tr>\n",
       "<tr><td>10.0</td><td>1.0</td><td>0.96</td></tr>\n",
       "</table>"
      ],
      "text/plain": [
       "<Table length=10>\n",
       " Depth  Training Accuracy Test Accuracy\n",
       "float64      float64         float64   \n",
       "------- ----------------- -------------\n",
       "    1.0    0.986666666667          0.96\n",
       "    2.0               1.0          0.96\n",
       "    3.0               1.0          0.96\n",
       "    4.0               1.0          0.96\n",
       "    5.0               1.0          0.96\n",
       "    6.0               1.0          0.96\n",
       "    7.0               1.0          0.96\n",
       "    8.0               1.0          0.96\n",
       "    9.0               1.0          0.96\n",
       "   10.0               1.0          0.96"
      ]
     },
     "execution_count": 8,
     "metadata": {},
     "output_type": "execute_result"
    }
   ],
   "source": [
    "print(\"Adaboost Classifier:\")\n",
    "ada"
   ]
  },
  {
   "cell_type": "code",
   "execution_count": 9,
   "metadata": {},
   "outputs": [
    {
     "data": {
      "text/plain": [
       "'\\n\\nFor the decision tree, I have depths varying from 1-10.\\n\\nComparing Results:\\n\\nFrom Decision Tree:\\n    As the depth of the tree increases, both the training accuracy and test accuracy increases along with the depth\\nof the tree. The training accuracy converges at the depth of 4. The test accuracy starts at 0.6 and the highest it goes\\nis 0.96\\n\\nFor Adaboost Classifier:\\n    As the depth of the tree increases, the training accuracy increases as well. The training accuracy converges at 2. \\nThe test accuracy in this case seems to remain the same at 0.96 for all depths\\n\\n'"
      ]
     },
     "execution_count": 9,
     "metadata": {},
     "output_type": "execute_result"
    }
   ],
   "source": [
    "'''\n",
    "\n",
    "For the decision tree, I have depths varying from 1-10.\n",
    "\n",
    "Comparing Results:\n",
    "\n",
    "From Decision Tree:\n",
    "    As the depth of the tree increases, both the training accuracy and test accuracy increases along with the depth\n",
    "of the tree. The training accuracy converges at the depth of 4. The test accuracy starts at 0.6 and the highest it goes\n",
    "is 0.96\n",
    "\n",
    "For Adaboost Classifier:\n",
    "    As the depth of the tree increases, the training accuracy increases as well. The training accuracy converges at 2. \n",
    "The test accuracy in this case seems to remain the same at 0.96 for all depths\n",
    "\n",
    "'''"
   ]
  }
 ],
 "metadata": {
  "kernelspec": {
   "display_name": "Python 3",
   "language": "python",
   "name": "python3"
  },
  "language_info": {
   "codemirror_mode": {
    "name": "ipython",
    "version": 3
   },
   "file_extension": ".py",
   "mimetype": "text/x-python",
   "name": "python",
   "nbconvert_exporter": "python",
   "pygments_lexer": "ipython3",
   "version": "3.6.1"
  }
 },
 "nbformat": 4,
 "nbformat_minor": 2
}
